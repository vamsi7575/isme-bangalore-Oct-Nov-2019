{
 "cells": [
  {
   "cell_type": "code",
   "execution_count": 1,
   "metadata": {},
   "outputs": [],
   "source": [
    "import os\n",
    "import pandas as pd"
   ]
  },
  {
   "cell_type": "code",
   "execution_count": 2,
   "metadata": {},
   "outputs": [
    {
     "data": {
      "text/html": [
       "<div>\n",
       "<style scoped>\n",
       "    .dataframe tbody tr th:only-of-type {\n",
       "        vertical-align: middle;\n",
       "    }\n",
       "\n",
       "    .dataframe tbody tr th {\n",
       "        vertical-align: top;\n",
       "    }\n",
       "\n",
       "    .dataframe thead th {\n",
       "        text-align: right;\n",
       "    }\n",
       "</style>\n",
       "<table border=\"1\" class=\"dataframe\">\n",
       "  <thead>\n",
       "    <tr style=\"text-align: right;\">\n",
       "      <th></th>\n",
       "      <th>family</th>\n",
       "      <th>product-type</th>\n",
       "      <th>steel</th>\n",
       "      <th>carbon</th>\n",
       "      <th>hardness</th>\n",
       "      <th>temper_rolling</th>\n",
       "      <th>condition</th>\n",
       "      <th>formability</th>\n",
       "      <th>strength</th>\n",
       "      <th>non-ageing</th>\n",
       "      <th>...</th>\n",
       "      <th>s</th>\n",
       "      <th>p</th>\n",
       "      <th>shape</th>\n",
       "      <th>thick</th>\n",
       "      <th>width</th>\n",
       "      <th>len</th>\n",
       "      <th>oil</th>\n",
       "      <th>bore</th>\n",
       "      <th>packing</th>\n",
       "      <th>class</th>\n",
       "    </tr>\n",
       "  </thead>\n",
       "  <tbody>\n",
       "    <tr>\n",
       "      <th>0</th>\n",
       "      <td>TN</td>\n",
       "      <td>C</td>\n",
       "      <td>A</td>\n",
       "      <td>8</td>\n",
       "      <td>0</td>\n",
       "      <td>T</td>\n",
       "      <td>S</td>\n",
       "      <td>2</td>\n",
       "      <td>0</td>\n",
       "      <td>N</td>\n",
       "      <td>...</td>\n",
       "      <td>0</td>\n",
       "      <td>0</td>\n",
       "      <td>COIL</td>\n",
       "      <td>0.700</td>\n",
       "      <td>610.0</td>\n",
       "      <td>0</td>\n",
       "      <td>Y</td>\n",
       "      <td>0</td>\n",
       "      <td>3</td>\n",
       "      <td>3</td>\n",
       "    </tr>\n",
       "    <tr>\n",
       "      <th>1</th>\n",
       "      <td>TN</td>\n",
       "      <td>C</td>\n",
       "      <td>R</td>\n",
       "      <td>0</td>\n",
       "      <td>0</td>\n",
       "      <td>T</td>\n",
       "      <td>S</td>\n",
       "      <td>2</td>\n",
       "      <td>0</td>\n",
       "      <td>N</td>\n",
       "      <td>...</td>\n",
       "      <td>0</td>\n",
       "      <td>0</td>\n",
       "      <td>COIL</td>\n",
       "      <td>3.200</td>\n",
       "      <td>610.0</td>\n",
       "      <td>0</td>\n",
       "      <td>Y</td>\n",
       "      <td>0</td>\n",
       "      <td>3</td>\n",
       "      <td>3</td>\n",
       "    </tr>\n",
       "    <tr>\n",
       "      <th>2</th>\n",
       "      <td>TN</td>\n",
       "      <td>C</td>\n",
       "      <td>R</td>\n",
       "      <td>0</td>\n",
       "      <td>0</td>\n",
       "      <td>T</td>\n",
       "      <td>S</td>\n",
       "      <td>2</td>\n",
       "      <td>0</td>\n",
       "      <td>N</td>\n",
       "      <td>...</td>\n",
       "      <td>0</td>\n",
       "      <td>0</td>\n",
       "      <td>SHEET</td>\n",
       "      <td>0.700</td>\n",
       "      <td>1300.0</td>\n",
       "      <td>762</td>\n",
       "      <td>Y</td>\n",
       "      <td>0</td>\n",
       "      <td>3</td>\n",
       "      <td>3</td>\n",
       "    </tr>\n",
       "    <tr>\n",
       "      <th>3</th>\n",
       "      <td>TN</td>\n",
       "      <td>C</td>\n",
       "      <td>A</td>\n",
       "      <td>0</td>\n",
       "      <td>60</td>\n",
       "      <td>T</td>\n",
       "      <td>S</td>\n",
       "      <td>2</td>\n",
       "      <td>0</td>\n",
       "      <td>N</td>\n",
       "      <td>...</td>\n",
       "      <td>0</td>\n",
       "      <td>0</td>\n",
       "      <td>COIL</td>\n",
       "      <td>2.801</td>\n",
       "      <td>385.1</td>\n",
       "      <td>0</td>\n",
       "      <td>Y</td>\n",
       "      <td>0</td>\n",
       "      <td>3</td>\n",
       "      <td>3</td>\n",
       "    </tr>\n",
       "    <tr>\n",
       "      <th>4</th>\n",
       "      <td>TN</td>\n",
       "      <td>C</td>\n",
       "      <td>A</td>\n",
       "      <td>0</td>\n",
       "      <td>60</td>\n",
       "      <td>T</td>\n",
       "      <td>S</td>\n",
       "      <td>2</td>\n",
       "      <td>0</td>\n",
       "      <td>N</td>\n",
       "      <td>...</td>\n",
       "      <td>0</td>\n",
       "      <td>0</td>\n",
       "      <td>SHEET</td>\n",
       "      <td>0.801</td>\n",
       "      <td>255.0</td>\n",
       "      <td>269</td>\n",
       "      <td>Y</td>\n",
       "      <td>0</td>\n",
       "      <td>3</td>\n",
       "      <td>3</td>\n",
       "    </tr>\n",
       "  </tbody>\n",
       "</table>\n",
       "<p>5 rows × 39 columns</p>\n",
       "</div>"
      ],
      "text/plain": [
       "  family product-type steel  carbon  hardness temper_rolling condition  \\\n",
       "0     TN            C     A       8         0              T         S   \n",
       "1     TN            C     R       0         0              T         S   \n",
       "2     TN            C     R       0         0              T         S   \n",
       "3     TN            C     A       0        60              T         S   \n",
       "4     TN            C     A       0        60              T         S   \n",
       "\n",
       "   formability  strength non-ageing  ...  s  p  shape  thick   width  len oil  \\\n",
       "0            2         0          N  ...  0  0   COIL  0.700   610.0    0   Y   \n",
       "1            2         0          N  ...  0  0   COIL  3.200   610.0    0   Y   \n",
       "2            2         0          N  ...  0  0  SHEET  0.700  1300.0  762   Y   \n",
       "3            2         0          N  ...  0  0   COIL  2.801   385.1    0   Y   \n",
       "4            2         0          N  ...  0  0  SHEET  0.801   255.0  269   Y   \n",
       "\n",
       "  bore  packing class  \n",
       "0    0        3     3  \n",
       "1    0        3     3  \n",
       "2    0        3     3  \n",
       "3    0        3     3  \n",
       "4    0        3     3  \n",
       "\n",
       "[5 rows x 39 columns]"
      ]
     },
     "execution_count": 2,
     "metadata": {},
     "output_type": "execute_result"
    }
   ],
   "source": [
    "df=pd.read_csv('Anneling1.csv',sep=\",\")# IMPORTING THE DATA\n",
    "df.head()# CHECKING THE FIRST TOP DATA)"
   ]
  },
  {
   "cell_type": "code",
   "execution_count": 3,
   "metadata": {},
   "outputs": [
    {
     "data": {
      "text/plain": [
       "(898, 39)"
      ]
     },
     "execution_count": 3,
     "metadata": {},
     "output_type": "execute_result"
    }
   ],
   "source": [
    "df.shape # says number of columns and rows "
   ]
  },
  {
   "cell_type": "code",
   "execution_count": 4,
   "metadata": {},
   "outputs": [
    {
     "name": "stdout",
     "output_type": "stream",
     "text": [
      "<class 'pandas.core.frame.DataFrame'>\n",
      "RangeIndex: 898 entries, 0 to 897\n",
      "Data columns (total 39 columns):\n",
      "family                          898 non-null object\n",
      "product-type                    898 non-null object\n",
      "steel                           898 non-null object\n",
      "carbon                          898 non-null int64\n",
      "hardness                        898 non-null int64\n",
      "temper_rolling                  898 non-null object\n",
      "condition                       898 non-null object\n",
      "formability                     898 non-null int64\n",
      "strength                        898 non-null int64\n",
      "non-ageing                      898 non-null object\n",
      "surface-finish                  898 non-null object\n",
      "surface-quality                 898 non-null object\n",
      "enamelability                   898 non-null int64\n",
      "bc                              898 non-null object\n",
      "bf                              898 non-null object\n",
      "bt                              898 non-null object\n",
      "bw%2Fme                         898 non-null object\n",
      "bl                              898 non-null object\n",
      "m                               898 non-null int64\n",
      "chrom                           898 non-null object\n",
      "phos                            898 non-null object\n",
      "cbond                           898 non-null object\n",
      "marvi                           898 non-null int64\n",
      "exptl                           898 non-null object\n",
      "ferro                           898 non-null object\n",
      "corr                            898 non-null int64\n",
      "blue%2Fbright%2Fvarn%2Fclean    898 non-null object\n",
      "lustre                          898 non-null object\n",
      "jurofm                          898 non-null int64\n",
      "s                               898 non-null int64\n",
      "p                               898 non-null int64\n",
      "shape                           898 non-null object\n",
      "thick                           898 non-null float64\n",
      "width                           898 non-null float64\n",
      "len                             898 non-null int64\n",
      "oil                             898 non-null object\n",
      "bore                            898 non-null int64\n",
      "packing                         898 non-null int64\n",
      "class                           898 non-null int64\n",
      "dtypes: float64(2), int64(15), object(22)\n",
      "memory usage: 273.7+ KB\n"
     ]
    }
   ],
   "source": [
    "df.info() # gives information about each and every rows and type of column"
   ]
  },
  {
   "cell_type": "code",
   "execution_count": 5,
   "metadata": {},
   "outputs": [
    {
     "data": {
      "text/plain": [
       "family                          0\n",
       "product-type                    0\n",
       "steel                           0\n",
       "carbon                          0\n",
       "hardness                        0\n",
       "temper_rolling                  0\n",
       "condition                       0\n",
       "formability                     0\n",
       "strength                        0\n",
       "non-ageing                      0\n",
       "surface-finish                  0\n",
       "surface-quality                 0\n",
       "enamelability                   0\n",
       "bc                              0\n",
       "bf                              0\n",
       "bt                              0\n",
       "bw%2Fme                         0\n",
       "bl                              0\n",
       "m                               0\n",
       "chrom                           0\n",
       "phos                            0\n",
       "cbond                           0\n",
       "marvi                           0\n",
       "exptl                           0\n",
       "ferro                           0\n",
       "corr                            0\n",
       "blue%2Fbright%2Fvarn%2Fclean    0\n",
       "lustre                          0\n",
       "jurofm                          0\n",
       "s                               0\n",
       "p                               0\n",
       "shape                           0\n",
       "thick                           0\n",
       "width                           0\n",
       "len                             0\n",
       "oil                             0\n",
       "bore                            0\n",
       "packing                         0\n",
       "class                           0\n",
       "dtype: int64"
      ]
     },
     "execution_count": 5,
     "metadata": {},
     "output_type": "execute_result"
    }
   ],
   "source": [
    "df.isnull().sum()  ### Checking any null values are there in the columns"
   ]
  },
  {
   "cell_type": "code",
   "execution_count": 6,
   "metadata": {},
   "outputs": [
    {
     "data": {
      "text/plain": [
       "carbon           1.881518e+02\n",
       "hardness         6.125886e+02\n",
       "formability      4.281048e-01\n",
       "strength         1.321494e+04\n",
       "enamelability    2.523346e-01\n",
       "m                0.000000e+00\n",
       "marvi            0.000000e+00\n",
       "corr             0.000000e+00\n",
       "jurofm           0.000000e+00\n",
       "s                0.000000e+00\n",
       "p                0.000000e+00\n",
       "thick            7.590039e-01\n",
       "width            1.643051e+05\n",
       "len              3.502135e+06\n",
       "bore             1.551528e+04\n",
       "packing          1.112607e+00\n",
       "class            4.850876e-01\n",
       "dtype: float64"
      ]
     },
     "execution_count": 6,
     "metadata": {},
     "output_type": "execute_result"
    }
   ],
   "source": [
    "df.var()  ## checking the variance of the columns"
   ]
  },
  {
   "cell_type": "code",
   "execution_count": 7,
   "metadata": {},
   "outputs": [
    {
     "data": {
      "text/plain": [
       "TN    539\n",
       "ZS    354\n",
       "0       5\n",
       "Name: family, dtype: int64"
      ]
     },
     "execution_count": 7,
     "metadata": {},
     "output_type": "execute_result"
    }
   ],
   "source": [
    "df['family'].value_counts() ## checking the how many types are there in the Family"
   ]
  },
  {
   "cell_type": "code",
   "execution_count": 8,
   "metadata": {},
   "outputs": [
    {
     "data": {
      "text/plain": [
       "C    898\n",
       "Name: product-type, dtype: int64"
      ]
     },
     "execution_count": 8,
     "metadata": {},
     "output_type": "execute_result"
    }
   ],
   "source": [
    "df['product-type'].value_counts()"
   ]
  },
  {
   "cell_type": "code",
   "execution_count": 9,
   "metadata": {},
   "outputs": [
    {
     "data": {
      "text/plain": [
       "A    492\n",
       "R    284\n",
       "K     55\n",
       "M     22\n",
       "W     19\n",
       "V     16\n",
       "S     10\n",
       "Name: steel, dtype: int64"
      ]
     },
     "execution_count": 9,
     "metadata": {},
     "output_type": "execute_result"
    }
   ],
   "source": [
    "df['steel'].value_counts()"
   ]
  },
  {
   "cell_type": "code",
   "execution_count": 10,
   "metadata": {},
   "outputs": [
    {
     "data": {
      "text/plain": [
       "0     821\n",
       "55     19\n",
       "45     17\n",
       "65     15\n",
       "6      11\n",
       "70      5\n",
       "4       4\n",
       "8       3\n",
       "10      2\n",
       "3       1\n",
       "Name: carbon, dtype: int64"
      ]
     },
     "execution_count": 10,
     "metadata": {},
     "output_type": "execute_result"
    }
   ],
   "source": [
    "df['carbon'].value_counts()"
   ]
  },
  {
   "cell_type": "code",
   "execution_count": 11,
   "metadata": {},
   "outputs": [
    {
     "data": {
      "text/plain": [
       "0     721\n",
       "45     58\n",
       "85     35\n",
       "50     34\n",
       "60     26\n",
       "70     19\n",
       "80      5\n",
       "Name: hardness, dtype: int64"
      ]
     },
     "execution_count": 11,
     "metadata": {},
     "output_type": "execute_result"
    }
   ],
   "source": [
    "df['hardness'].value_counts()"
   ]
  },
  {
   "cell_type": "code",
   "execution_count": 12,
   "metadata": {},
   "outputs": [
    {
     "data": {
      "text/plain": [
       "T    898\n",
       "Name: temper_rolling, dtype: int64"
      ]
     },
     "execution_count": 12,
     "metadata": {},
     "output_type": "execute_result"
    }
   ],
   "source": [
    "df['temper_rolling'].value_counts()"
   ]
  },
  {
   "cell_type": "code",
   "execution_count": 13,
   "metadata": {},
   "outputs": [
    {
     "data": {
      "text/plain": [
       "S    831\n",
       "A     65\n",
       "0      2\n",
       "Name: condition, dtype: int64"
      ]
     },
     "execution_count": 13,
     "metadata": {},
     "output_type": "execute_result"
    }
   ],
   "source": [
    "df['condition'].value_counts()"
   ]
  },
  {
   "cell_type": "code",
   "execution_count": 14,
   "metadata": {},
   "outputs": [
    {
     "data": {
      "text/plain": [
       "2    579\n",
       "3    235\n",
       "1     69\n",
       "5     13\n",
       "0      2\n",
       "Name: formability, dtype: int64"
      ]
     },
     "execution_count": 14,
     "metadata": {},
     "output_type": "execute_result"
    }
   ],
   "source": [
    "df['formability'].value_counts()"
   ]
  },
  {
   "cell_type": "code",
   "execution_count": 15,
   "metadata": {},
   "outputs": [
    {
     "data": {
      "text/plain": [
       "0      834\n",
       "310     19\n",
       "500     18\n",
       "600     11\n",
       "350      9\n",
       "400      4\n",
       "300      2\n",
       "700      1\n",
       "Name: strength, dtype: int64"
      ]
     },
     "execution_count": 15,
     "metadata": {},
     "output_type": "execute_result"
    }
   ],
   "source": [
    "df['strength'].value_counts()"
   ]
  },
  {
   "cell_type": "code",
   "execution_count": 16,
   "metadata": {},
   "outputs": [
    {
     "data": {
      "text/plain": [
       "N    893\n",
       "0      5\n",
       "Name: non-ageing, dtype: int64"
      ]
     },
     "execution_count": 16,
     "metadata": {},
     "output_type": "execute_result"
    }
   ],
   "source": [
    "df['non-ageing'].value_counts()"
   ]
  },
  {
   "cell_type": "code",
   "execution_count": 17,
   "metadata": {},
   "outputs": [
    {
     "data": {
      "text/plain": [
       "P    805\n",
       "0     93\n",
       "Name: surface-finish, dtype: int64"
      ]
     },
     "execution_count": 17,
     "metadata": {},
     "output_type": "execute_result"
    }
   ],
   "source": [
    "df['surface-finish'].value_counts()"
   ]
  },
  {
   "cell_type": "code",
   "execution_count": 18,
   "metadata": {},
   "outputs": [
    {
     "data": {
      "text/plain": [
       "E    421\n",
       "G    310\n",
       "F     92\n",
       "D     75\n",
       "Name: surface-quality, dtype: int64"
      ]
     },
     "execution_count": 18,
     "metadata": {},
     "output_type": "execute_result"
    }
   ],
   "source": [
    "df['surface-quality'].value_counts()"
   ]
  },
  {
   "cell_type": "code",
   "execution_count": 19,
   "metadata": {},
   "outputs": [
    {
     "data": {
      "text/plain": [
       "1    489\n",
       "2    407\n",
       "0      2\n",
       "Name: enamelability, dtype: int64"
      ]
     },
     "execution_count": 19,
     "metadata": {},
     "output_type": "execute_result"
    }
   ],
   "source": [
    "df['enamelability'].value_counts()"
   ]
  },
  {
   "cell_type": "code",
   "execution_count": 20,
   "metadata": {},
   "outputs": [
    {
     "data": {
      "text/plain": [
       "Y    724\n",
       "0    174\n",
       "Name: bc, dtype: int64"
      ]
     },
     "execution_count": 20,
     "metadata": {},
     "output_type": "execute_result"
    }
   ],
   "source": [
    "df['bc'].value_counts()"
   ]
  },
  {
   "cell_type": "code",
   "execution_count": 21,
   "metadata": {},
   "outputs": [
    {
     "data": {
      "text/plain": [
       "Y    887\n",
       "0     11\n",
       "Name: bf, dtype: int64"
      ]
     },
     "execution_count": 21,
     "metadata": {},
     "output_type": "execute_result"
    }
   ],
   "source": [
    "df['bf'].value_counts()"
   ]
  },
  {
   "cell_type": "code",
   "execution_count": 22,
   "metadata": {},
   "outputs": [
    {
     "data": {
      "text/plain": [
       "Y    898\n",
       "Name: bt, dtype: int64"
      ]
     },
     "execution_count": 22,
     "metadata": {},
     "output_type": "execute_result"
    }
   ],
   "source": [
    "df['bt'].value_counts()"
   ]
  },
  {
   "cell_type": "code",
   "execution_count": 23,
   "metadata": {},
   "outputs": [
    {
     "data": {
      "text/plain": [
       "B    711\n",
       "M    187\n",
       "Name: bw%2Fme, dtype: int64"
      ]
     },
     "execution_count": 23,
     "metadata": {},
     "output_type": "execute_result"
    }
   ],
   "source": [
    "df['bw%2Fme'].value_counts()"
   ]
  },
  {
   "cell_type": "code",
   "execution_count": 24,
   "metadata": {},
   "outputs": [
    {
     "data": {
      "text/plain": [
       "Y    892\n",
       "0      6\n",
       "Name: bl, dtype: int64"
      ]
     },
     "execution_count": 24,
     "metadata": {},
     "output_type": "execute_result"
    }
   ],
   "source": [
    "df['bl'].value_counts()"
   ]
  },
  {
   "cell_type": "code",
   "execution_count": 25,
   "metadata": {},
   "outputs": [
    {
     "data": {
      "text/plain": [
       "0    898\n",
       "Name: m, dtype: int64"
      ]
     },
     "execution_count": 25,
     "metadata": {},
     "output_type": "execute_result"
    }
   ],
   "source": [
    "df['m'].value_counts()"
   ]
  },
  {
   "cell_type": "code",
   "execution_count": 26,
   "metadata": {},
   "outputs": [
    {
     "data": {
      "text/plain": [
       "C    893\n",
       "0      5\n",
       "Name: chrom, dtype: int64"
      ]
     },
     "execution_count": 26,
     "metadata": {},
     "output_type": "execute_result"
    }
   ],
   "source": [
    "df['chrom'].value_counts()"
   ]
  },
  {
   "cell_type": "code",
   "execution_count": 27,
   "metadata": {},
   "outputs": [
    {
     "data": {
      "text/plain": [
       "P    750\n",
       "0    148\n",
       "Name: phos, dtype: int64"
      ]
     },
     "execution_count": 27,
     "metadata": {},
     "output_type": "execute_result"
    }
   ],
   "source": [
    "df['phos'].value_counts()"
   ]
  },
  {
   "cell_type": "code",
   "execution_count": 28,
   "metadata": {},
   "outputs": [
    {
     "data": {
      "text/plain": [
       "Y    882\n",
       "0     16\n",
       "Name: cbond, dtype: int64"
      ]
     },
     "execution_count": 28,
     "metadata": {},
     "output_type": "execute_result"
    }
   ],
   "source": [
    "df['cbond'].value_counts()"
   ]
  },
  {
   "cell_type": "code",
   "execution_count": 29,
   "metadata": {},
   "outputs": [
    {
     "data": {
      "text/plain": [
       "0    898\n",
       "Name: marvi, dtype: int64"
      ]
     },
     "execution_count": 29,
     "metadata": {},
     "output_type": "execute_result"
    }
   ],
   "source": [
    "df['marvi'].value_counts()"
   ]
  },
  {
   "cell_type": "code",
   "execution_count": 30,
   "metadata": {},
   "outputs": [
    {
     "data": {
      "text/plain": [
       "Y    891\n",
       "0      7\n",
       "Name: ferro, dtype: int64"
      ]
     },
     "execution_count": 30,
     "metadata": {},
     "output_type": "execute_result"
    }
   ],
   "source": [
    "df['ferro'].value_counts()"
   ]
  },
  {
   "cell_type": "code",
   "execution_count": 31,
   "metadata": {},
   "outputs": [
    {
     "data": {
      "text/plain": [
       "0    898\n",
       "Name: corr, dtype: int64"
      ]
     },
     "execution_count": 31,
     "metadata": {},
     "output_type": "execute_result"
    }
   ],
   "source": [
    "df['corr'].value_counts()"
   ]
  },
  {
   "cell_type": "code",
   "execution_count": 32,
   "metadata": {},
   "outputs": [
    {
     "data": {
      "text/plain": [
       "0    533\n",
       "Y    365\n",
       "Name: exptl, dtype: int64"
      ]
     },
     "execution_count": 32,
     "metadata": {},
     "output_type": "execute_result"
    }
   ],
   "source": [
    "df['exptl'].value_counts()"
   ]
  },
  {
   "cell_type": "code",
   "execution_count": 33,
   "metadata": {},
   "outputs": [
    {
     "data": {
      "text/plain": [
       "Y    882\n",
       "0     16\n",
       "Name: lustre, dtype: int64"
      ]
     },
     "execution_count": 33,
     "metadata": {},
     "output_type": "execute_result"
    }
   ],
   "source": [
    "df['lustre'].value_counts()"
   ]
  },
  {
   "cell_type": "code",
   "execution_count": 34,
   "metadata": {},
   "outputs": [
    {
     "data": {
      "text/plain": [
       "B    638\n",
       "V    120\n",
       "0     93\n",
       "C     47\n",
       "Name: blue%2Fbright%2Fvarn%2Fclean, dtype: int64"
      ]
     },
     "execution_count": 34,
     "metadata": {},
     "output_type": "execute_result"
    }
   ],
   "source": [
    "df['blue%2Fbright%2Fvarn%2Fclean'].value_counts()"
   ]
  },
  {
   "cell_type": "code",
   "execution_count": 35,
   "metadata": {},
   "outputs": [
    {
     "data": {
      "text/plain": [
       "0    898\n",
       "Name: jurofm, dtype: int64"
      ]
     },
     "execution_count": 35,
     "metadata": {},
     "output_type": "execute_result"
    }
   ],
   "source": [
    "df['jurofm'].value_counts()"
   ]
  },
  {
   "cell_type": "code",
   "execution_count": 36,
   "metadata": {},
   "outputs": [
    {
     "data": {
      "text/plain": [
       "0    898\n",
       "Name: s, dtype: int64"
      ]
     },
     "execution_count": 36,
     "metadata": {},
     "output_type": "execute_result"
    }
   ],
   "source": [
    "df['s'].value_counts()"
   ]
  },
  {
   "cell_type": "code",
   "execution_count": 37,
   "metadata": {},
   "outputs": [
    {
     "data": {
      "text/plain": [
       "0    898\n",
       "Name: p, dtype: int64"
      ]
     },
     "execution_count": 37,
     "metadata": {},
     "output_type": "execute_result"
    }
   ],
   "source": [
    "df['p'].value_counts()"
   ]
  },
  {
   "cell_type": "code",
   "execution_count": 38,
   "metadata": {},
   "outputs": [
    {
     "data": {
      "text/plain": [
       "SHEET    486\n",
       "COIL     412\n",
       "Name: shape, dtype: int64"
      ]
     },
     "execution_count": 38,
     "metadata": {},
     "output_type": "execute_result"
    }
   ],
   "source": [
    "df['shape'].value_counts()"
   ]
  },
  {
   "cell_type": "code",
   "execution_count": 39,
   "metadata": {},
   "outputs": [
    {
     "data": {
      "text/plain": [
       "0.700    90\n",
       "1.600    90\n",
       "0.699    87\n",
       "0.600    83\n",
       "0.800    71\n",
       "3.200    59\n",
       "0.300    44\n",
       "1.200    39\n",
       "0.400    37\n",
       "1.599    34\n",
       "1.000    31\n",
       "0.601    21\n",
       "2.000    18\n",
       "0.500    16\n",
       "4.000    14\n",
       "2.500    14\n",
       "1.601    12\n",
       "0.301    12\n",
       "0.799    11\n",
       "1.201     9\n",
       "0.900     9\n",
       "3.201     9\n",
       "2.300     7\n",
       "0.801     7\n",
       "1.500     7\n",
       "1.001     6\n",
       "0.999     6\n",
       "2.801     5\n",
       "2.200     5\n",
       "1.090     5\n",
       "0.599     5\n",
       "0.451     4\n",
       "0.321     3\n",
       "3.500     3\n",
       "1.100     3\n",
       "1.399     2\n",
       "0.750     2\n",
       "0.901     2\n",
       "2.501     2\n",
       "1.299     2\n",
       "1.400     2\n",
       "1.300     2\n",
       "3.000     1\n",
       "0.501     1\n",
       "2.800     1\n",
       "1.900     1\n",
       "0.651     1\n",
       "0.240     1\n",
       "3.300     1\n",
       "0.250     1\n",
       "Name: thick, dtype: int64"
      ]
     },
     "execution_count": 39,
     "metadata": {},
     "output_type": "execute_result"
    }
   ],
   "source": [
    "df['thick'].value_counts()"
   ]
  },
  {
   "cell_type": "code",
   "execution_count": 40,
   "metadata": {},
   "outputs": [
    {
     "data": {
      "text/plain": [
       "610.0     278\n",
       "1320.0    155\n",
       "609.9      93\n",
       "1220.0     49\n",
       "1300.0     30\n",
       "900.0      27\n",
       "20.0       25\n",
       "50.0       21\n",
       "150.0      14\n",
       "1250.0     14\n",
       "640.0      13\n",
       "335.0      12\n",
       "520.0      11\n",
       "1500.0      9\n",
       "75.0        8\n",
       "1525.0      7\n",
       "375.0       7\n",
       "1000.0      7\n",
       "609.0       7\n",
       "300.1       7\n",
       "1274.9      5\n",
       "385.1       5\n",
       "1275.0      5\n",
       "374.9       5\n",
       "250.0       4\n",
       "500.0       4\n",
       "595.0       4\n",
       "1090.0      4\n",
       "1050.0      4\n",
       "830.0       3\n",
       "         ... \n",
       "255.1       2\n",
       "1200.0      2\n",
       "0.0         2\n",
       "519.9       2\n",
       "599.9       2\n",
       "600.1       2\n",
       "1130.0      2\n",
       "966.1       2\n",
       "255.0       2\n",
       "356.1       2\n",
       "966.0       2\n",
       "200.1       1\n",
       "1135.0      1\n",
       "515.0       1\n",
       "65.1        1\n",
       "1200.1      1\n",
       "1100.0      1\n",
       "606.9       1\n",
       "900.1       1\n",
       "915.1       1\n",
       "355.0       1\n",
       "710.1       1\n",
       "58.0        1\n",
       "519.0       1\n",
       "1310.0      1\n",
       "29.0        1\n",
       "190.0       1\n",
       "915.0       1\n",
       "28.0        1\n",
       "450.0       1\n",
       "Name: width, Length: 68, dtype: int64"
      ]
     },
     "execution_count": 40,
     "metadata": {},
     "output_type": "execute_result"
    }
   ],
   "source": [
    "df['width'].value_counts()"
   ]
  },
  {
   "cell_type": "code",
   "execution_count": 41,
   "metadata": {},
   "outputs": [
    {
     "data": {
      "text/plain": [
       "0       417\n",
       "762     172\n",
       "4880    157\n",
       "612      35\n",
       "4170     34\n",
       "761      23\n",
       "3000      9\n",
       "301       7\n",
       "1         6\n",
       "150       6\n",
       "1220      5\n",
       "611       5\n",
       "881       4\n",
       "300       3\n",
       "270       2\n",
       "269       2\n",
       "1000      2\n",
       "759       2\n",
       "760       2\n",
       "400       1\n",
       "614       1\n",
       "4120      1\n",
       "880       1\n",
       "610       1\n",
       "Name: len, dtype: int64"
      ]
     },
     "execution_count": 41,
     "metadata": {},
     "output_type": "execute_result"
    }
   ],
   "source": [
    "df['len'].value_counts()"
   ]
  },
  {
   "cell_type": "code",
   "execution_count": 42,
   "metadata": {},
   "outputs": [
    {
     "data": {
      "text/plain": [
       "Y    570\n",
       "N    301\n",
       "0     27\n",
       "Name: oil, dtype: int64"
      ]
     },
     "execution_count": 42,
     "metadata": {},
     "output_type": "execute_result"
    }
   ],
   "source": [
    "df['oil'].value_counts()"
   ]
  },
  {
   "cell_type": "code",
   "execution_count": 43,
   "metadata": {},
   "outputs": [
    {
     "data": {
      "text/plain": [
       "0      854\n",
       "600     33\n",
       "500     11\n",
       "Name: bore, dtype: int64"
      ]
     },
     "execution_count": 43,
     "metadata": {},
     "output_type": "execute_result"
    }
   ],
   "source": [
    "df['bore'].value_counts()"
   ]
  },
  {
   "cell_type": "code",
   "execution_count": 44,
   "metadata": {},
   "outputs": [
    {
     "data": {
      "text/plain": [
       "3    686\n",
       "0    129\n",
       "2     83\n",
       "Name: packing, dtype: int64"
      ]
     },
     "execution_count": 44,
     "metadata": {},
     "output_type": "execute_result"
    }
   ],
   "source": [
    "df['packing'].value_counts()"
   ]
  },
  {
   "cell_type": "code",
   "execution_count": 45,
   "metadata": {},
   "outputs": [
    {
     "data": {
      "text/plain": [
       "3    684\n",
       "2     99\n",
       "5     67\n",
       "4     40\n",
       "1      8\n",
       "Name: class, dtype: int64"
      ]
     },
     "execution_count": 45,
     "metadata": {},
     "output_type": "execute_result"
    }
   ],
   "source": [
    "df['class'].value_counts()"
   ]
  },
  {
   "cell_type": "markdown",
   "metadata": {},
   "source": [
    "### Changing the columns to 0 and 1 by using else function"
   ]
  },
  {
   "cell_type": "code",
   "execution_count": 46,
   "metadata": {},
   "outputs": [
    {
     "data": {
      "text/plain": [
       "0    486\n",
       "1    412\n",
       "Name: shape, dtype: int64"
      ]
     },
     "execution_count": 46,
     "metadata": {},
     "output_type": "execute_result"
    }
   ],
   "source": [
    "df['shape']=[1 if x=='COIL' else 0 for x in df['shape']]\n",
    "df['shape'].value_counts()"
   ]
  },
  {
   "cell_type": "code",
   "execution_count": 47,
   "metadata": {},
   "outputs": [
    {
     "data": {
      "text/plain": [
       "1    882\n",
       "0     16\n",
       "Name: lustre, dtype: int64"
      ]
     },
     "execution_count": 47,
     "metadata": {},
     "output_type": "execute_result"
    }
   ],
   "source": [
    "df['lustre']=[1 if x=='Y' else 0 for x in df['lustre']]\n",
    "df['lustre'].value_counts()"
   ]
  },
  {
   "cell_type": "code",
   "execution_count": 48,
   "metadata": {},
   "outputs": [
    {
     "data": {
      "text/plain": [
       "0    533\n",
       "1    365\n",
       "Name: exptl, dtype: int64"
      ]
     },
     "execution_count": 48,
     "metadata": {},
     "output_type": "execute_result"
    }
   ],
   "source": [
    "df['exptl']=[1 if x=='Y' else 0 for x in df['exptl']]\n",
    "df['exptl'].value_counts()"
   ]
  },
  {
   "cell_type": "code",
   "execution_count": 49,
   "metadata": {},
   "outputs": [
    {
     "data": {
      "text/plain": [
       "1    891\n",
       "0      7\n",
       "Name: ferro, dtype: int64"
      ]
     },
     "execution_count": 49,
     "metadata": {},
     "output_type": "execute_result"
    }
   ],
   "source": [
    "df['ferro']=[1 if x=='Y' else 0 for x in df['ferro']]\n",
    "df['ferro'].value_counts()"
   ]
  },
  {
   "cell_type": "code",
   "execution_count": 50,
   "metadata": {},
   "outputs": [
    {
     "data": {
      "text/plain": [
       "1    882\n",
       "0     16\n",
       "Name: cbond, dtype: int64"
      ]
     },
     "execution_count": 50,
     "metadata": {},
     "output_type": "execute_result"
    }
   ],
   "source": [
    "df['cbond']=[1 if x=='Y' else 0 for x in df['cbond']]\n",
    "df['cbond'].value_counts()"
   ]
  },
  {
   "cell_type": "code",
   "execution_count": 51,
   "metadata": {},
   "outputs": [
    {
     "data": {
      "text/plain": [
       "1    750\n",
       "0    148\n",
       "Name: phos, dtype: int64"
      ]
     },
     "execution_count": 51,
     "metadata": {},
     "output_type": "execute_result"
    }
   ],
   "source": [
    "df['phos']=[1 if x=='P' else 0 for x in df['phos']]\n",
    "df['phos'].value_counts()"
   ]
  },
  {
   "cell_type": "code",
   "execution_count": 52,
   "metadata": {},
   "outputs": [
    {
     "data": {
      "text/plain": [
       "1    893\n",
       "0      5\n",
       "Name: chrom, dtype: int64"
      ]
     },
     "execution_count": 52,
     "metadata": {},
     "output_type": "execute_result"
    }
   ],
   "source": [
    "df['chrom']=[1 if x=='C' else 0 for x in df['chrom']]\n",
    "df['chrom'].value_counts()"
   ]
  },
  {
   "cell_type": "code",
   "execution_count": 53,
   "metadata": {},
   "outputs": [
    {
     "data": {
      "text/plain": [
       "1    711\n",
       "0    187\n",
       "Name: bw%2Fme, dtype: int64"
      ]
     },
     "execution_count": 53,
     "metadata": {},
     "output_type": "execute_result"
    }
   ],
   "source": [
    "df['bw%2Fme']=[1 if x=='B' else 0 for x in df['bw%2Fme']]\n",
    "df['bw%2Fme'].value_counts()"
   ]
  },
  {
   "cell_type": "code",
   "execution_count": 54,
   "metadata": {},
   "outputs": [
    {
     "data": {
      "text/plain": [
       "1    892\n",
       "0      6\n",
       "Name: bl, dtype: int64"
      ]
     },
     "execution_count": 54,
     "metadata": {},
     "output_type": "execute_result"
    }
   ],
   "source": [
    "df['bl']=[1 if x=='Y' else 0 for x in df['bl']]\n",
    "df['bl'].value_counts()"
   ]
  },
  {
   "cell_type": "code",
   "execution_count": 55,
   "metadata": {},
   "outputs": [
    {
     "data": {
      "text/plain": [
       "1    724\n",
       "0    174\n",
       "Name: bc, dtype: int64"
      ]
     },
     "execution_count": 55,
     "metadata": {},
     "output_type": "execute_result"
    }
   ],
   "source": [
    "df['bc']=[1 if x=='Y' else 0 for x in df['bc']]\n",
    "df['bc'].value_counts()"
   ]
  },
  {
   "cell_type": "code",
   "execution_count": 56,
   "metadata": {},
   "outputs": [
    {
     "data": {
      "text/plain": [
       "1    887\n",
       "0     11\n",
       "Name: bf, dtype: int64"
      ]
     },
     "execution_count": 56,
     "metadata": {},
     "output_type": "execute_result"
    }
   ],
   "source": [
    "df['bf']=[1 if x=='Y' else 0 for x in df['bf']]\n",
    "df['bf'].value_counts()"
   ]
  },
  {
   "cell_type": "code",
   "execution_count": 57,
   "metadata": {},
   "outputs": [
    {
     "data": {
      "text/plain": [
       "1    805\n",
       "0     93\n",
       "Name: surface-finish, dtype: int64"
      ]
     },
     "execution_count": 57,
     "metadata": {},
     "output_type": "execute_result"
    }
   ],
   "source": [
    "df['surface-finish']=[1 if x=='P' else 0 for x in df['surface-finish']]\n",
    "df['surface-finish'].value_counts()"
   ]
  },
  {
   "cell_type": "code",
   "execution_count": 58,
   "metadata": {},
   "outputs": [
    {
     "data": {
      "text/plain": [
       "1    893\n",
       "0      5\n",
       "Name: non-ageing, dtype: int64"
      ]
     },
     "execution_count": 58,
     "metadata": {},
     "output_type": "execute_result"
    }
   ],
   "source": [
    "df['non-ageing']=[1 if x=='N' else 0 for x in df['non-ageing']]\n",
    "df['non-ageing'].value_counts()"
   ]
  },
  {
   "cell_type": "code",
   "execution_count": 59,
   "metadata": {},
   "outputs": [
    {
     "name": "stdout",
     "output_type": "stream",
     "text": [
      "<class 'pandas.core.frame.DataFrame'>\n",
      "RangeIndex: 898 entries, 0 to 897\n",
      "Data columns (total 39 columns):\n",
      "family                          898 non-null object\n",
      "product-type                    898 non-null object\n",
      "steel                           898 non-null object\n",
      "carbon                          898 non-null int64\n",
      "hardness                        898 non-null int64\n",
      "temper_rolling                  898 non-null object\n",
      "condition                       898 non-null object\n",
      "formability                     898 non-null int64\n",
      "strength                        898 non-null int64\n",
      "non-ageing                      898 non-null int64\n",
      "surface-finish                  898 non-null int64\n",
      "surface-quality                 898 non-null object\n",
      "enamelability                   898 non-null int64\n",
      "bc                              898 non-null int64\n",
      "bf                              898 non-null int64\n",
      "bt                              898 non-null object\n",
      "bw%2Fme                         898 non-null int64\n",
      "bl                              898 non-null int64\n",
      "m                               898 non-null int64\n",
      "chrom                           898 non-null int64\n",
      "phos                            898 non-null int64\n",
      "cbond                           898 non-null int64\n",
      "marvi                           898 non-null int64\n",
      "exptl                           898 non-null int64\n",
      "ferro                           898 non-null int64\n",
      "corr                            898 non-null int64\n",
      "blue%2Fbright%2Fvarn%2Fclean    898 non-null object\n",
      "lustre                          898 non-null int64\n",
      "jurofm                          898 non-null int64\n",
      "s                               898 non-null int64\n",
      "p                               898 non-null int64\n",
      "shape                           898 non-null int64\n",
      "thick                           898 non-null float64\n",
      "width                           898 non-null float64\n",
      "len                             898 non-null int64\n",
      "oil                             898 non-null object\n",
      "bore                            898 non-null int64\n",
      "packing                         898 non-null int64\n",
      "class                           898 non-null int64\n",
      "dtypes: float64(2), int64(28), object(9)\n",
      "memory usage: 273.7+ KB\n"
     ]
    }
   ],
   "source": [
    "df.info()  ## checking the information about each and every columns"
   ]
  },
  {
   "cell_type": "code",
   "execution_count": 60,
   "metadata": {},
   "outputs": [],
   "source": [
    "df1=df[['carbon', 'hardness', 'formability', 'strength', 'non-ageing', 'surface-finish', 'enamelability' ,'bc' ,'bf' ,'bl',\n",
    "       'bw%2Fme', 'bl', 'm', 'chrom', 'phos', 'cbond', 'marvi', 'exptl', 'ferro', 'corr', 'lustre', 'jurofm', 's', 'p', 'shape',\n",
    "        'thick', 'width', 'len', 'bore', 'packing']]"
   ]
  },
  {
   "cell_type": "code",
   "execution_count": 61,
   "metadata": {},
   "outputs": [],
   "source": [
    "import sklearn\n",
    "from sklearn import preprocessing"
   ]
  },
  {
   "cell_type": "code",
   "execution_count": 62,
   "metadata": {},
   "outputs": [
    {
     "data": {
      "text/plain": [
       "Index(['carbon', 'hardness', 'formability', 'strength', 'non-ageing',\n",
       "       'surface-finish', 'enamelability', 'bc', 'bf', 'bl', 'bw%2Fme', 'bl',\n",
       "       'm', 'chrom', 'phos', 'cbond', 'marvi', 'exptl', 'ferro', 'corr',\n",
       "       'lustre', 'jurofm', 's', 'p', 'shape', 'thick', 'width', 'len', 'bore',\n",
       "       'packing'],\n",
       "      dtype='object')"
      ]
     },
     "execution_count": 62,
     "metadata": {},
     "output_type": "execute_result"
    }
   ],
   "source": [
    "df1.columns"
   ]
  },
  {
   "cell_type": "code",
   "execution_count": 63,
   "metadata": {},
   "outputs": [],
   "source": [
    "x=df1.values"
   ]
  },
  {
   "cell_type": "code",
   "execution_count": 64,
   "metadata": {},
   "outputs": [
    {
     "data": {
      "text/plain": [
       "array([[  8.,   0.,   2., ...,   0.,   0.,   3.],\n",
       "       [  0.,   0.,   2., ...,   0.,   0.,   3.],\n",
       "       [  0.,   0.,   2., ..., 762.,   0.,   3.],\n",
       "       ...,\n",
       "       [  0.,   0.,   2., ..., 762.,   0.,   0.],\n",
       "       [  0.,  85.,   0., ...,   0.,   0.,   0.],\n",
       "       [  0.,  85.,   0., ...,   0., 500.,   0.]])"
      ]
     },
     "execution_count": 64,
     "metadata": {},
     "output_type": "execute_result"
    }
   ],
   "source": [
    "x"
   ]
  },
  {
   "cell_type": "code",
   "execution_count": 65,
   "metadata": {},
   "outputs": [],
   "source": [
    "min_max_scaler = preprocessing.MinMaxScaler() ## Convertig 0 to 1"
   ]
  },
  {
   "cell_type": "code",
   "execution_count": 66,
   "metadata": {},
   "outputs": [],
   "source": [
    "x_scaled = min_max_scaler.fit_transform(x)"
   ]
  },
  {
   "cell_type": "code",
   "execution_count": 67,
   "metadata": {},
   "outputs": [
    {
     "data": {
      "text/html": [
       "<div>\n",
       "<style scoped>\n",
       "    .dataframe tbody tr th:only-of-type {\n",
       "        vertical-align: middle;\n",
       "    }\n",
       "\n",
       "    .dataframe tbody tr th {\n",
       "        vertical-align: top;\n",
       "    }\n",
       "\n",
       "    .dataframe thead th {\n",
       "        text-align: right;\n",
       "    }\n",
       "</style>\n",
       "<table border=\"1\" class=\"dataframe\">\n",
       "  <thead>\n",
       "    <tr style=\"text-align: right;\">\n",
       "      <th></th>\n",
       "      <th>0</th>\n",
       "      <th>1</th>\n",
       "      <th>2</th>\n",
       "      <th>3</th>\n",
       "      <th>4</th>\n",
       "      <th>5</th>\n",
       "      <th>6</th>\n",
       "      <th>7</th>\n",
       "      <th>8</th>\n",
       "      <th>9</th>\n",
       "      <th>...</th>\n",
       "      <th>20</th>\n",
       "      <th>21</th>\n",
       "      <th>22</th>\n",
       "      <th>23</th>\n",
       "      <th>24</th>\n",
       "      <th>25</th>\n",
       "      <th>26</th>\n",
       "      <th>27</th>\n",
       "      <th>28</th>\n",
       "      <th>29</th>\n",
       "    </tr>\n",
       "  </thead>\n",
       "  <tbody>\n",
       "    <tr>\n",
       "      <th>0</th>\n",
       "      <td>0.114286</td>\n",
       "      <td>0.000000</td>\n",
       "      <td>0.4</td>\n",
       "      <td>0.0</td>\n",
       "      <td>1.0</td>\n",
       "      <td>1.0</td>\n",
       "      <td>1.0</td>\n",
       "      <td>1.0</td>\n",
       "      <td>1.0</td>\n",
       "      <td>1.0</td>\n",
       "      <td>...</td>\n",
       "      <td>1.0</td>\n",
       "      <td>0.0</td>\n",
       "      <td>0.0</td>\n",
       "      <td>0.0</td>\n",
       "      <td>1.0</td>\n",
       "      <td>0.122340</td>\n",
       "      <td>0.400000</td>\n",
       "      <td>0.000000</td>\n",
       "      <td>0.0</td>\n",
       "      <td>1.0</td>\n",
       "    </tr>\n",
       "    <tr>\n",
       "      <th>1</th>\n",
       "      <td>0.000000</td>\n",
       "      <td>0.000000</td>\n",
       "      <td>0.4</td>\n",
       "      <td>0.0</td>\n",
       "      <td>1.0</td>\n",
       "      <td>1.0</td>\n",
       "      <td>1.0</td>\n",
       "      <td>1.0</td>\n",
       "      <td>1.0</td>\n",
       "      <td>1.0</td>\n",
       "      <td>...</td>\n",
       "      <td>1.0</td>\n",
       "      <td>0.0</td>\n",
       "      <td>0.0</td>\n",
       "      <td>0.0</td>\n",
       "      <td>1.0</td>\n",
       "      <td>0.787234</td>\n",
       "      <td>0.400000</td>\n",
       "      <td>0.000000</td>\n",
       "      <td>0.0</td>\n",
       "      <td>1.0</td>\n",
       "    </tr>\n",
       "    <tr>\n",
       "      <th>2</th>\n",
       "      <td>0.000000</td>\n",
       "      <td>0.000000</td>\n",
       "      <td>0.4</td>\n",
       "      <td>0.0</td>\n",
       "      <td>1.0</td>\n",
       "      <td>1.0</td>\n",
       "      <td>1.0</td>\n",
       "      <td>1.0</td>\n",
       "      <td>1.0</td>\n",
       "      <td>1.0</td>\n",
       "      <td>...</td>\n",
       "      <td>1.0</td>\n",
       "      <td>0.0</td>\n",
       "      <td>0.0</td>\n",
       "      <td>0.0</td>\n",
       "      <td>0.0</td>\n",
       "      <td>0.122340</td>\n",
       "      <td>0.852459</td>\n",
       "      <td>0.156148</td>\n",
       "      <td>0.0</td>\n",
       "      <td>1.0</td>\n",
       "    </tr>\n",
       "    <tr>\n",
       "      <th>3</th>\n",
       "      <td>0.000000</td>\n",
       "      <td>0.705882</td>\n",
       "      <td>0.4</td>\n",
       "      <td>0.0</td>\n",
       "      <td>1.0</td>\n",
       "      <td>1.0</td>\n",
       "      <td>1.0</td>\n",
       "      <td>1.0</td>\n",
       "      <td>1.0</td>\n",
       "      <td>1.0</td>\n",
       "      <td>...</td>\n",
       "      <td>1.0</td>\n",
       "      <td>0.0</td>\n",
       "      <td>0.0</td>\n",
       "      <td>0.0</td>\n",
       "      <td>1.0</td>\n",
       "      <td>0.681117</td>\n",
       "      <td>0.252525</td>\n",
       "      <td>0.000000</td>\n",
       "      <td>0.0</td>\n",
       "      <td>1.0</td>\n",
       "    </tr>\n",
       "    <tr>\n",
       "      <th>4</th>\n",
       "      <td>0.000000</td>\n",
       "      <td>0.705882</td>\n",
       "      <td>0.4</td>\n",
       "      <td>0.0</td>\n",
       "      <td>1.0</td>\n",
       "      <td>1.0</td>\n",
       "      <td>1.0</td>\n",
       "      <td>1.0</td>\n",
       "      <td>1.0</td>\n",
       "      <td>1.0</td>\n",
       "      <td>...</td>\n",
       "      <td>1.0</td>\n",
       "      <td>0.0</td>\n",
       "      <td>0.0</td>\n",
       "      <td>0.0</td>\n",
       "      <td>0.0</td>\n",
       "      <td>0.149202</td>\n",
       "      <td>0.167213</td>\n",
       "      <td>0.055123</td>\n",
       "      <td>0.0</td>\n",
       "      <td>1.0</td>\n",
       "    </tr>\n",
       "  </tbody>\n",
       "</table>\n",
       "<p>5 rows × 30 columns</p>\n",
       "</div>"
      ],
      "text/plain": [
       "         0         1    2    3    4    5    6    7    8    9   ...   20   21  \\\n",
       "0  0.114286  0.000000  0.4  0.0  1.0  1.0  1.0  1.0  1.0  1.0  ...  1.0  0.0   \n",
       "1  0.000000  0.000000  0.4  0.0  1.0  1.0  1.0  1.0  1.0  1.0  ...  1.0  0.0   \n",
       "2  0.000000  0.000000  0.4  0.0  1.0  1.0  1.0  1.0  1.0  1.0  ...  1.0  0.0   \n",
       "3  0.000000  0.705882  0.4  0.0  1.0  1.0  1.0  1.0  1.0  1.0  ...  1.0  0.0   \n",
       "4  0.000000  0.705882  0.4  0.0  1.0  1.0  1.0  1.0  1.0  1.0  ...  1.0  0.0   \n",
       "\n",
       "    22   23   24        25        26        27   28   29  \n",
       "0  0.0  0.0  1.0  0.122340  0.400000  0.000000  0.0  1.0  \n",
       "1  0.0  0.0  1.0  0.787234  0.400000  0.000000  0.0  1.0  \n",
       "2  0.0  0.0  0.0  0.122340  0.852459  0.156148  0.0  1.0  \n",
       "3  0.0  0.0  1.0  0.681117  0.252525  0.000000  0.0  1.0  \n",
       "4  0.0  0.0  0.0  0.149202  0.167213  0.055123  0.0  1.0  \n",
       "\n",
       "[5 rows x 30 columns]"
      ]
     },
     "execution_count": 67,
     "metadata": {},
     "output_type": "execute_result"
    }
   ],
   "source": [
    "df1_normalized = pd.DataFrame(x_scaled)\n",
    "df1_normalized.head() #normalized dataframe"
   ]
  },
  {
   "cell_type": "code",
   "execution_count": 68,
   "metadata": {},
   "outputs": [
    {
     "data": {
      "text/plain": [
       "(898, 30)"
      ]
     },
     "execution_count": 68,
     "metadata": {},
     "output_type": "execute_result"
    }
   ],
   "source": [
    "df1.shape"
   ]
  },
  {
   "cell_type": "code",
   "execution_count": 69,
   "metadata": {},
   "outputs": [
    {
     "data": {
      "text/plain": [
       "(898, 30)"
      ]
     },
     "execution_count": 69,
     "metadata": {},
     "output_type": "execute_result"
    }
   ],
   "source": [
    "df1_normalized.shape"
   ]
  },
  {
   "cell_type": "markdown",
   "metadata": {},
   "source": [
    "### Lable Encoding"
   ]
  },
  {
   "cell_type": "code",
   "execution_count": 70,
   "metadata": {},
   "outputs": [
    {
     "data": {
      "text/html": [
       "<div>\n",
       "<style scoped>\n",
       "    .dataframe tbody tr th:only-of-type {\n",
       "        vertical-align: middle;\n",
       "    }\n",
       "\n",
       "    .dataframe tbody tr th {\n",
       "        vertical-align: top;\n",
       "    }\n",
       "\n",
       "    .dataframe thead th {\n",
       "        text-align: right;\n",
       "    }\n",
       "</style>\n",
       "<table border=\"1\" class=\"dataframe\">\n",
       "  <thead>\n",
       "    <tr style=\"text-align: right;\">\n",
       "      <th></th>\n",
       "      <th>family</th>\n",
       "      <th>product-type</th>\n",
       "      <th>steel</th>\n",
       "      <th>temper_rolling</th>\n",
       "      <th>condition</th>\n",
       "      <th>surface-quality</th>\n",
       "      <th>bt</th>\n",
       "      <th>blue%2Fbright%2Fvarn%2Fclean</th>\n",
       "      <th>oil</th>\n",
       "    </tr>\n",
       "  </thead>\n",
       "  <tbody>\n",
       "    <tr>\n",
       "      <th>0</th>\n",
       "      <td>TN</td>\n",
       "      <td>C</td>\n",
       "      <td>A</td>\n",
       "      <td>T</td>\n",
       "      <td>S</td>\n",
       "      <td>G</td>\n",
       "      <td>Y</td>\n",
       "      <td>V</td>\n",
       "      <td>Y</td>\n",
       "    </tr>\n",
       "    <tr>\n",
       "      <th>1</th>\n",
       "      <td>TN</td>\n",
       "      <td>C</td>\n",
       "      <td>R</td>\n",
       "      <td>T</td>\n",
       "      <td>S</td>\n",
       "      <td>E</td>\n",
       "      <td>Y</td>\n",
       "      <td>V</td>\n",
       "      <td>Y</td>\n",
       "    </tr>\n",
       "    <tr>\n",
       "      <th>2</th>\n",
       "      <td>TN</td>\n",
       "      <td>C</td>\n",
       "      <td>R</td>\n",
       "      <td>T</td>\n",
       "      <td>S</td>\n",
       "      <td>E</td>\n",
       "      <td>Y</td>\n",
       "      <td>V</td>\n",
       "      <td>Y</td>\n",
       "    </tr>\n",
       "    <tr>\n",
       "      <th>3</th>\n",
       "      <td>TN</td>\n",
       "      <td>C</td>\n",
       "      <td>A</td>\n",
       "      <td>T</td>\n",
       "      <td>S</td>\n",
       "      <td>G</td>\n",
       "      <td>Y</td>\n",
       "      <td>V</td>\n",
       "      <td>Y</td>\n",
       "    </tr>\n",
       "    <tr>\n",
       "      <th>4</th>\n",
       "      <td>TN</td>\n",
       "      <td>C</td>\n",
       "      <td>A</td>\n",
       "      <td>T</td>\n",
       "      <td>S</td>\n",
       "      <td>G</td>\n",
       "      <td>Y</td>\n",
       "      <td>V</td>\n",
       "      <td>Y</td>\n",
       "    </tr>\n",
       "  </tbody>\n",
       "</table>\n",
       "</div>"
      ],
      "text/plain": [
       "  family product-type steel temper_rolling condition surface-quality bt  \\\n",
       "0     TN            C     A              T         S               G  Y   \n",
       "1     TN            C     R              T         S               E  Y   \n",
       "2     TN            C     R              T         S               E  Y   \n",
       "3     TN            C     A              T         S               G  Y   \n",
       "4     TN            C     A              T         S               G  Y   \n",
       "\n",
       "  blue%2Fbright%2Fvarn%2Fclean oil  \n",
       "0                            V   Y  \n",
       "1                            V   Y  \n",
       "2                            V   Y  \n",
       "3                            V   Y  \n",
       "4                            V   Y  "
      ]
     },
     "execution_count": 70,
     "metadata": {},
     "output_type": "execute_result"
    }
   ],
   "source": [
    "X =df.select_dtypes(include=[object])\n",
    "X.head()"
   ]
  },
  {
   "cell_type": "code",
   "execution_count": 71,
   "metadata": {},
   "outputs": [
    {
     "data": {
      "text/plain": [
       "Index(['family', 'product-type', 'steel', 'temper_rolling', 'condition',\n",
       "       'surface-quality', 'bt', 'blue%2Fbright%2Fvarn%2Fclean', 'oil'],\n",
       "      dtype='object')"
      ]
     },
     "execution_count": 71,
     "metadata": {},
     "output_type": "execute_result"
    }
   ],
   "source": [
    "X.columns"
   ]
  },
  {
   "cell_type": "code",
   "execution_count": 72,
   "metadata": {},
   "outputs": [
    {
     "data": {
      "text/plain": [
       "(898, 9)"
      ]
     },
     "execution_count": 72,
     "metadata": {},
     "output_type": "execute_result"
    }
   ],
   "source": [
    "X.shape"
   ]
  },
  {
   "cell_type": "code",
   "execution_count": 73,
   "metadata": {},
   "outputs": [
    {
     "data": {
      "text/html": [
       "<div>\n",
       "<style scoped>\n",
       "    .dataframe tbody tr th:only-of-type {\n",
       "        vertical-align: middle;\n",
       "    }\n",
       "\n",
       "    .dataframe tbody tr th {\n",
       "        vertical-align: top;\n",
       "    }\n",
       "\n",
       "    .dataframe thead th {\n",
       "        text-align: right;\n",
       "    }\n",
       "</style>\n",
       "<table border=\"1\" class=\"dataframe\">\n",
       "  <thead>\n",
       "    <tr style=\"text-align: right;\">\n",
       "      <th></th>\n",
       "      <th>family</th>\n",
       "      <th>product-type</th>\n",
       "      <th>steel</th>\n",
       "      <th>temper_rolling</th>\n",
       "      <th>condition</th>\n",
       "      <th>surface-quality</th>\n",
       "      <th>bt</th>\n",
       "      <th>blue%2Fbright%2Fvarn%2Fclean</th>\n",
       "      <th>oil</th>\n",
       "    </tr>\n",
       "  </thead>\n",
       "  <tbody>\n",
       "    <tr>\n",
       "      <th>0</th>\n",
       "      <td>1</td>\n",
       "      <td>0</td>\n",
       "      <td>0</td>\n",
       "      <td>0</td>\n",
       "      <td>2</td>\n",
       "      <td>3</td>\n",
       "      <td>0</td>\n",
       "      <td>3</td>\n",
       "      <td>2</td>\n",
       "    </tr>\n",
       "    <tr>\n",
       "      <th>1</th>\n",
       "      <td>1</td>\n",
       "      <td>0</td>\n",
       "      <td>3</td>\n",
       "      <td>0</td>\n",
       "      <td>2</td>\n",
       "      <td>1</td>\n",
       "      <td>0</td>\n",
       "      <td>3</td>\n",
       "      <td>2</td>\n",
       "    </tr>\n",
       "    <tr>\n",
       "      <th>2</th>\n",
       "      <td>1</td>\n",
       "      <td>0</td>\n",
       "      <td>3</td>\n",
       "      <td>0</td>\n",
       "      <td>2</td>\n",
       "      <td>1</td>\n",
       "      <td>0</td>\n",
       "      <td>3</td>\n",
       "      <td>2</td>\n",
       "    </tr>\n",
       "    <tr>\n",
       "      <th>3</th>\n",
       "      <td>1</td>\n",
       "      <td>0</td>\n",
       "      <td>0</td>\n",
       "      <td>0</td>\n",
       "      <td>2</td>\n",
       "      <td>3</td>\n",
       "      <td>0</td>\n",
       "      <td>3</td>\n",
       "      <td>2</td>\n",
       "    </tr>\n",
       "    <tr>\n",
       "      <th>4</th>\n",
       "      <td>1</td>\n",
       "      <td>0</td>\n",
       "      <td>0</td>\n",
       "      <td>0</td>\n",
       "      <td>2</td>\n",
       "      <td>3</td>\n",
       "      <td>0</td>\n",
       "      <td>3</td>\n",
       "      <td>2</td>\n",
       "    </tr>\n",
       "  </tbody>\n",
       "</table>\n",
       "</div>"
      ],
      "text/plain": [
       "   family  product-type  steel  temper_rolling  condition  surface-quality  \\\n",
       "0       1             0      0               0          2                3   \n",
       "1       1             0      3               0          2                1   \n",
       "2       1             0      3               0          2                1   \n",
       "3       1             0      0               0          2                3   \n",
       "4       1             0      0               0          2                3   \n",
       "\n",
       "   bt  blue%2Fbright%2Fvarn%2Fclean  oil  \n",
       "0   0                             3    2  \n",
       "1   0                             3    2  \n",
       "2   0                             3    2  \n",
       "3   0                             3    2  \n",
       "4   0                             3    2  "
      ]
     },
     "execution_count": 73,
     "metadata": {},
     "output_type": "execute_result"
    }
   ],
   "source": [
    "le = preprocessing.LabelEncoder()\n",
    "X_2 = X.apply(le.fit_transform)\n",
    "X_2.head()"
   ]
  },
  {
   "cell_type": "markdown",
   "metadata": {},
   "source": [
    "### One Hot Encoding"
   ]
  },
  {
   "cell_type": "code",
   "execution_count": 74,
   "metadata": {},
   "outputs": [],
   "source": [
    "from sklearn.preprocessing import OneHotEncoder"
   ]
  },
  {
   "cell_type": "code",
   "execution_count": 75,
   "metadata": {},
   "outputs": [],
   "source": [
    "enc= preprocessing.OneHotEncoder()"
   ]
  },
  {
   "cell_type": "code",
   "execution_count": 76,
   "metadata": {},
   "outputs": [
    {
     "name": "stderr",
     "output_type": "stream",
     "text": [
      "/anaconda3/lib/python3.7/site-packages/sklearn/preprocessing/_encoders.py:371: FutureWarning: The handling of integer data will change in version 0.22. Currently, the categories are determined based on the range [0, max(values)], while in the future they will be determined based on the unique values.\n",
      "If you want the future behaviour and silence this warning, you can specify \"categories='auto'\".\n",
      "In case you used a LabelEncoder before this OneHotEncoder to convert the categories to integers, then you can now use the OneHotEncoder directly.\n",
      "  warnings.warn(msg, FutureWarning)\n"
     ]
    }
   ],
   "source": [
    "enc.fit(X_2)\n",
    "OHE = enc.transform(X_2).toarray()"
   ]
  },
  {
   "cell_type": "code",
   "execution_count": 77,
   "metadata": {},
   "outputs": [
    {
     "data": {
      "text/plain": [
       "(898, 27)"
      ]
     },
     "execution_count": 77,
     "metadata": {},
     "output_type": "execute_result"
    }
   ],
   "source": [
    "OHE.shape"
   ]
  },
  {
   "cell_type": "code",
   "execution_count": 78,
   "metadata": {},
   "outputs": [],
   "source": [
    "data=pd.DataFrame(OHE)"
   ]
  },
  {
   "cell_type": "code",
   "execution_count": 79,
   "metadata": {},
   "outputs": [
    {
     "data": {
      "text/plain": [
       "RangeIndex(start=0, stop=27, step=1)"
      ]
     },
     "execution_count": 79,
     "metadata": {},
     "output_type": "execute_result"
    }
   ],
   "source": [
    "data.columns"
   ]
  },
  {
   "cell_type": "code",
   "execution_count": 80,
   "metadata": {},
   "outputs": [],
   "source": [
    "data[['carbon', 'hardness', 'formability', 'strength', 'non-ageing',\n",
    "       'surface-finish', 'enamelability', 'bc', 'bf', 'bl', 'bw%2Fme', 'bl',\n",
    "       'm', 'chrom', 'phos', 'cbond', 'marvi', 'exptl', 'ferro', 'corr',\n",
    "       'lustre', 'jurofm', 's', 'p', 'shape', 'thick', 'width', 'len', 'bore',\n",
    "       'packing']]=df1_normalized"
   ]
  },
  {
   "cell_type": "code",
   "execution_count": 81,
   "metadata": {},
   "outputs": [],
   "source": [
    "X=data\n",
    "y=df['class']"
   ]
  },
  {
   "cell_type": "markdown",
   "metadata": {},
   "source": [
    "### Performing classification\n",
    "\n",
    "#### Classification using logistic regression"
   ]
  },
  {
   "cell_type": "code",
   "execution_count": 82,
   "metadata": {},
   "outputs": [],
   "source": [
    "from sklearn.model_selection import train_test_split\n",
    "X_train,X_test,y_train,y_test=train_test_split(X,y,test_size=0.8,random_state=1)"
   ]
  },
  {
   "cell_type": "code",
   "execution_count": 83,
   "metadata": {},
   "outputs": [
    {
     "name": "stderr",
     "output_type": "stream",
     "text": [
      "/anaconda3/lib/python3.7/site-packages/sklearn/linear_model/logistic.py:433: FutureWarning: Default solver will be changed to 'lbfgs' in 0.22. Specify a solver to silence this warning.\n",
      "  FutureWarning)\n",
      "/anaconda3/lib/python3.7/site-packages/sklearn/linear_model/logistic.py:460: FutureWarning: Default multi_class will be changed to 'auto' in 0.22. Specify the multi_class option to silence this warning.\n",
      "  \"this warning.\", FutureWarning)\n"
     ]
    },
    {
     "data": {
      "text/plain": [
       "LogisticRegression(C=1.0, class_weight=None, dual=False, fit_intercept=True,\n",
       "          intercept_scaling=1, max_iter=100, multi_class='warn',\n",
       "          n_jobs=None, penalty='l2', random_state=None, solver='warn',\n",
       "          tol=0.0001, verbose=0, warm_start=False)"
      ]
     },
     "execution_count": 83,
     "metadata": {},
     "output_type": "execute_result"
    }
   ],
   "source": [
    "from sklearn.linear_model import LogisticRegression\n",
    "from sklearn.metrics import accuracy_score\n",
    "model = LogisticRegression()\n",
    "model.fit(X_train,y_train)  # fitting logistic regression"
   ]
  },
  {
   "cell_type": "code",
   "execution_count": 84,
   "metadata": {},
   "outputs": [],
   "source": [
    "y_prediction = model.predict(X_test)"
   ]
  },
  {
   "cell_type": "code",
   "execution_count": 85,
   "metadata": {},
   "outputs": [],
   "source": [
    "accuracy=accuracy_score(y_test,y_prediction)"
   ]
  },
  {
   "cell_type": "code",
   "execution_count": 86,
   "metadata": {},
   "outputs": [
    {
     "name": "stdout",
     "output_type": "stream",
     "text": [
      "0.7830319888734353\n"
     ]
    }
   ],
   "source": [
    "print(accuracy)"
   ]
  },
  {
   "cell_type": "code",
   "execution_count": 87,
   "metadata": {},
   "outputs": [],
   "source": [
    "from sklearn.metrics import confusion_matrix"
   ]
  },
  {
   "cell_type": "code",
   "execution_count": 88,
   "metadata": {},
   "outputs": [],
   "source": [
    "cm=confusion_matrix(y_test, y_prediction)"
   ]
  },
  {
   "cell_type": "code",
   "execution_count": 89,
   "metadata": {},
   "outputs": [
    {
     "data": {
      "text/plain": [
       "array([[  0,   0,   6,   0,   0],\n",
       "       [  0,  16,  61,   0,   1],\n",
       "       [  0,   6, 535,   0,   2],\n",
       "       [  0,   0,  35,   1,   0],\n",
       "       [  0,   1,  44,   0,  11]])"
      ]
     },
     "execution_count": 89,
     "metadata": {},
     "output_type": "execute_result"
    }
   ],
   "source": [
    "cm"
   ]
  },
  {
   "cell_type": "markdown",
   "metadata": {},
   "source": [
    "### Neural Networks"
   ]
  },
  {
   "cell_type": "code",
   "execution_count": 90,
   "metadata": {},
   "outputs": [],
   "source": [
    "#from sklearn.linear_model import LogisticRegression \n",
    "from sklearn.neural_network import MLPClassifier\n",
    "from sklearn.metrics import accuracy_score "
   ]
  },
  {
   "cell_type": "code",
   "execution_count": 91,
   "metadata": {},
   "outputs": [
    {
     "data": {
      "text/plain": [
       "MLPClassifier(activation='relu', alpha=0.0001, batch_size='auto', beta_1=0.9,\n",
       "       beta_2=0.999, early_stopping=False, epsilon=1e-08,\n",
       "       hidden_layer_sizes=(150, 99), learning_rate='constant',\n",
       "       learning_rate_init=0.001, max_iter=1000, momentum=0.9,\n",
       "       n_iter_no_change=10, nesterovs_momentum=True, power_t=0.5,\n",
       "       random_state=None, shuffle=True, solver='adam', tol=0.0001,\n",
       "       validation_fraction=0.1, verbose=False, warm_start=False)"
      ]
     },
     "execution_count": 91,
     "metadata": {},
     "output_type": "execute_result"
    }
   ],
   "source": [
    "#model = LogisticRegression()\n",
    "model = MLPClassifier(hidden_layer_sizes=(150,99), max_iter=1000)\n",
    "\n",
    "model.fit(X_train, y_train)"
   ]
  },
  {
   "cell_type": "code",
   "execution_count": 92,
   "metadata": {},
   "outputs": [],
   "source": [
    "y_prediction = model.predict(X_test)"
   ]
  },
  {
   "cell_type": "code",
   "execution_count": 93,
   "metadata": {},
   "outputs": [],
   "source": [
    "accuracy=accuracy_score(y_test,y_prediction)"
   ]
  },
  {
   "cell_type": "code",
   "execution_count": 94,
   "metadata": {},
   "outputs": [
    {
     "name": "stdout",
     "output_type": "stream",
     "text": [
      "0.7844228094575799\n"
     ]
    }
   ],
   "source": [
    "print(accuracy)"
   ]
  },
  {
   "cell_type": "code",
   "execution_count": 95,
   "metadata": {},
   "outputs": [
    {
     "data": {
      "text/plain": [
       "(898, 56)"
      ]
     },
     "execution_count": 95,
     "metadata": {},
     "output_type": "execute_result"
    }
   ],
   "source": [
    "data.shape"
   ]
  },
  {
   "cell_type": "code",
   "execution_count": 96,
   "metadata": {},
   "outputs": [
    {
     "data": {
      "text/plain": [
       "MLPClassifier(activation='relu', alpha=0.0001, batch_size='auto', beta_1=0.9,\n",
       "       beta_2=0.999, early_stopping=False, epsilon=1e-08,\n",
       "       hidden_layer_sizes=(290, 99), learning_rate='constant',\n",
       "       learning_rate_init=0.001, max_iter=1000, momentum=0.9,\n",
       "       n_iter_no_change=10, nesterovs_momentum=True, power_t=0.5,\n",
       "       random_state=None, shuffle=True, solver='adam', tol=0.0001,\n",
       "       validation_fraction=0.1, verbose=False, warm_start=False)"
      ]
     },
     "execution_count": 96,
     "metadata": {},
     "output_type": "execute_result"
    }
   ],
   "source": [
    "#model = LogisticRegression()\n",
    "model = MLPClassifier(hidden_layer_sizes=(290,99), max_iter=1000)\n",
    "\n",
    "model.fit(X_train, y_train)"
   ]
  },
  {
   "cell_type": "code",
   "execution_count": 97,
   "metadata": {},
   "outputs": [],
   "source": [
    "y_prediction = model.predict(X_test)"
   ]
  },
  {
   "cell_type": "code",
   "execution_count": 98,
   "metadata": {},
   "outputs": [],
   "source": [
    "accuracy=accuracy_score(y_test,y_prediction)"
   ]
  },
  {
   "cell_type": "code",
   "execution_count": 99,
   "metadata": {},
   "outputs": [
    {
     "name": "stdout",
     "output_type": "stream",
     "text": [
      "0.7774687065368567\n"
     ]
    }
   ],
   "source": [
    "print(accuracy)"
   ]
  },
  {
   "cell_type": "markdown",
   "metadata": {},
   "source": [
    "### SVM"
   ]
  },
  {
   "cell_type": "code",
   "execution_count": 100,
   "metadata": {},
   "outputs": [
    {
     "name": "stderr",
     "output_type": "stream",
     "text": [
      "/anaconda3/lib/python3.7/site-packages/sklearn/svm/base.py:196: FutureWarning: The default value of gamma will change from 'auto' to 'scale' in version 0.22 to account better for unscaled features. Set gamma explicitly to 'auto' or 'scale' to avoid this warning.\n",
      "  \"avoid this warning.\", FutureWarning)\n"
     ]
    },
    {
     "data": {
      "text/plain": [
       "SVC(C=1.0, cache_size=200, class_weight=None, coef0=0.0,\n",
       "  decision_function_shape='ovr', degree=3, gamma='auto_deprecated',\n",
       "  kernel='rbf', max_iter=-1, probability=False, random_state=None,\n",
       "  shrinking=True, tol=0.001, verbose=False)"
      ]
     },
     "execution_count": 100,
     "metadata": {},
     "output_type": "execute_result"
    }
   ],
   "source": [
    "#from sklearn.linear_model import LogisticRegression \n",
    "from sklearn.svm import SVC\n",
    "from sklearn.metrics import accuracy_score \n",
    "\n",
    "#model = LogisticRegression()\n",
    "model = SVC()\n",
    "\n",
    "model.fit(X, y)"
   ]
  },
  {
   "cell_type": "code",
   "execution_count": 101,
   "metadata": {},
   "outputs": [],
   "source": [
    "predicted_classes = model.predict(X)"
   ]
  },
  {
   "cell_type": "code",
   "execution_count": 102,
   "metadata": {},
   "outputs": [
    {
     "name": "stdout",
     "output_type": "stream",
     "text": [
      "0.7616926503340757\n"
     ]
    }
   ],
   "source": [
    "accuracy = accuracy_score(y.values.flatten(),predicted_classes)\n",
    "print(accuracy)"
   ]
  },
  {
   "cell_type": "markdown",
   "metadata": {},
   "source": [
    "### Random Forest"
   ]
  },
  {
   "cell_type": "code",
   "execution_count": 103,
   "metadata": {},
   "outputs": [
    {
     "data": {
      "text/plain": [
       "RandomForestClassifier(bootstrap=True, class_weight=None, criterion='gini',\n",
       "            max_depth=None, max_features='auto', max_leaf_nodes=None,\n",
       "            min_impurity_decrease=0.0, min_impurity_split=None,\n",
       "            min_samples_leaf=1, min_samples_split=2,\n",
       "            min_weight_fraction_leaf=0.0, n_estimators=100, n_jobs=None,\n",
       "            oob_score=False, random_state=None, verbose=0,\n",
       "            warm_start=False)"
      ]
     },
     "execution_count": 103,
     "metadata": {},
     "output_type": "execute_result"
    }
   ],
   "source": [
    "#from sklearn.linear_model import LogisticRegression \n",
    "from sklearn.ensemble import RandomForestClassifier\n",
    "from sklearn.metrics import accuracy_score \n",
    "\n",
    "#model = LogisticRegression()\n",
    "model = RandomForestClassifier(n_estimators=100)\n",
    "\n",
    "model.fit(X, y)"
   ]
  },
  {
   "cell_type": "code",
   "execution_count": 104,
   "metadata": {},
   "outputs": [],
   "source": [
    "predicted_classes = model.predict(X)"
   ]
  },
  {
   "cell_type": "code",
   "execution_count": 105,
   "metadata": {},
   "outputs": [
    {
     "name": "stdout",
     "output_type": "stream",
     "text": [
      "1.0\n"
     ]
    }
   ],
   "source": [
    "accuracy = accuracy_score(y.values.flatten(),predicted_classes)\n",
    "print(accuracy)"
   ]
  },
  {
   "cell_type": "code",
   "execution_count": 106,
   "metadata": {},
   "outputs": [
    {
     "data": {
      "text/plain": [
       "100.0"
      ]
     },
     "execution_count": 106,
     "metadata": {},
     "output_type": "execute_result"
    }
   ],
   "source": [
    "accuracy*100"
   ]
  }
 ],
 "metadata": {
  "kernelspec": {
   "display_name": "Python 3",
   "language": "python",
   "name": "python3"
  },
  "language_info": {
   "codemirror_mode": {
    "name": "ipython",
    "version": 3
   },
   "file_extension": ".py",
   "mimetype": "text/x-python",
   "name": "python",
   "nbconvert_exporter": "python",
   "pygments_lexer": "ipython3",
   "version": "3.7.3"
  }
 },
 "nbformat": 4,
 "nbformat_minor": 2
}
